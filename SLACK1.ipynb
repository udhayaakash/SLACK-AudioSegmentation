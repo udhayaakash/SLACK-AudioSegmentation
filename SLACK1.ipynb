{
 "cells": [
  {
   "cell_type": "code",
   "execution_count": 1,
   "metadata": {},
   "outputs": [
    {
     "name": "stderr",
     "output_type": "stream",
     "text": [
      "C:\\Users\\owner\\Anaconda3\\lib\\site-packages\\h5py\\__init__.py:34: FutureWarning: Conversion of the second argument of issubdtype from `float` to `np.floating` is deprecated. In future, it will be treated as `np.float64 == np.dtype(float).type`.\n",
      "  from ._conv import register_converters as _register_converters\n",
      "Using TensorFlow backend.\n"
     ]
    }
   ],
   "source": [
    "\n",
    "import librosa\n",
    "import pandas as pd\n",
    "import numpy as np\n",
    "import matplotlib.pyplot as plt\n",
    "get_ipython().run_line_magic('matplotlib', 'inline')\n",
    "import os\n",
    "from PIL import Image\n",
    "import pathlib\n",
    "import csv\n",
    "\n",
    "# Preprocessing\n",
    "from sklearn.model_selection import train_test_split\n",
    "from sklearn.preprocessing import LabelEncoder, StandardScaler\n",
    "\n",
    "#Keras\n",
    "import keras\n",
    "\n",
    "import warnings\n",
    "warnings.filterwarnings('ignore')\n",
    "\n",
    "from python_speech_features import mfcc as mfccc\n",
    "from python_speech_features import logfbank\n",
    "import scipy.io.wavfile as wav\n",
    "from pandas import DataFrame"
   ]
  },
  {
   "cell_type": "code",
   "execution_count": 2,
   "metadata": {},
   "outputs": [
    {
     "data": {
      "text/html": [
       "<div>\n",
       "<style scoped>\n",
       "    .dataframe tbody tr th:only-of-type {\n",
       "        vertical-align: middle;\n",
       "    }\n",
       "\n",
       "    .dataframe tbody tr th {\n",
       "        vertical-align: top;\n",
       "    }\n",
       "\n",
       "    .dataframe thead th {\n",
       "        text-align: right;\n",
       "    }\n",
       "</style>\n",
       "<table border=\"1\" class=\"dataframe\">\n",
       "  <thead>\n",
       "    <tr style=\"text-align: right;\">\n",
       "      <th></th>\n",
       "      <th>mfcc1</th>\n",
       "      <th>mfcc2</th>\n",
       "      <th>mfcc3</th>\n",
       "      <th>mfcc4</th>\n",
       "      <th>mfcc5</th>\n",
       "      <th>mfcc6</th>\n",
       "      <th>mfcc7</th>\n",
       "      <th>mfcc8</th>\n",
       "      <th>mfcc9</th>\n",
       "      <th>mfcc10</th>\n",
       "      <th>...</th>\n",
       "      <th>mfcc12</th>\n",
       "      <th>mfcc13</th>\n",
       "      <th>mfcc14</th>\n",
       "      <th>mfcc15</th>\n",
       "      <th>mfcc16</th>\n",
       "      <th>mfcc17</th>\n",
       "      <th>mfcc18</th>\n",
       "      <th>mfcc19</th>\n",
       "      <th>mfcc20</th>\n",
       "      <th>label</th>\n",
       "    </tr>\n",
       "  </thead>\n",
       "  <tbody>\n",
       "    <tr>\n",
       "      <th>1173610</th>\n",
       "      <td>12.932554</td>\n",
       "      <td>-3.438311</td>\n",
       "      <td>0.712146</td>\n",
       "      <td>1.496589</td>\n",
       "      <td>6.448451</td>\n",
       "      <td>2.992739</td>\n",
       "      <td>-0.824358</td>\n",
       "      <td>7.651176</td>\n",
       "      <td>-15.793766</td>\n",
       "      <td>7.669075</td>\n",
       "      <td>...</td>\n",
       "      <td>5.759200</td>\n",
       "      <td>-7.525948</td>\n",
       "      <td>8.672894</td>\n",
       "      <td>-3.928161</td>\n",
       "      <td>-13.454528</td>\n",
       "      <td>0.736362</td>\n",
       "      <td>-5.667800</td>\n",
       "      <td>1.932495</td>\n",
       "      <td>1.284689</td>\n",
       "      <td>NS</td>\n",
       "    </tr>\n",
       "    <tr>\n",
       "      <th>1173611</th>\n",
       "      <td>13.078408</td>\n",
       "      <td>-2.660954</td>\n",
       "      <td>1.599874</td>\n",
       "      <td>-2.059938</td>\n",
       "      <td>10.321796</td>\n",
       "      <td>6.187514</td>\n",
       "      <td>4.866676</td>\n",
       "      <td>10.455900</td>\n",
       "      <td>-20.453577</td>\n",
       "      <td>6.245536</td>\n",
       "      <td>...</td>\n",
       "      <td>3.035482</td>\n",
       "      <td>-8.298606</td>\n",
       "      <td>0.402892</td>\n",
       "      <td>-7.453174</td>\n",
       "      <td>-11.439127</td>\n",
       "      <td>0.448788</td>\n",
       "      <td>-3.902659</td>\n",
       "      <td>2.115690</td>\n",
       "      <td>1.639411</td>\n",
       "      <td>NS</td>\n",
       "    </tr>\n",
       "    <tr>\n",
       "      <th>1173612</th>\n",
       "      <td>12.958079</td>\n",
       "      <td>-1.267645</td>\n",
       "      <td>-0.654874</td>\n",
       "      <td>-2.410546</td>\n",
       "      <td>8.801666</td>\n",
       "      <td>1.258751</td>\n",
       "      <td>0.438309</td>\n",
       "      <td>14.905351</td>\n",
       "      <td>-29.494555</td>\n",
       "      <td>3.738767</td>\n",
       "      <td>...</td>\n",
       "      <td>4.619153</td>\n",
       "      <td>-2.773699</td>\n",
       "      <td>2.339311</td>\n",
       "      <td>-4.887733</td>\n",
       "      <td>-7.183047</td>\n",
       "      <td>2.242666</td>\n",
       "      <td>-5.891264</td>\n",
       "      <td>1.602447</td>\n",
       "      <td>-0.388524</td>\n",
       "      <td>NS</td>\n",
       "    </tr>\n",
       "    <tr>\n",
       "      <th>1173613</th>\n",
       "      <td>13.067278</td>\n",
       "      <td>-2.336895</td>\n",
       "      <td>1.597430</td>\n",
       "      <td>-0.662740</td>\n",
       "      <td>8.254957</td>\n",
       "      <td>-2.752948</td>\n",
       "      <td>2.668889</td>\n",
       "      <td>14.964874</td>\n",
       "      <td>-25.839926</td>\n",
       "      <td>6.372458</td>\n",
       "      <td>...</td>\n",
       "      <td>3.512694</td>\n",
       "      <td>-6.212925</td>\n",
       "      <td>-1.443155</td>\n",
       "      <td>-5.001671</td>\n",
       "      <td>-6.875766</td>\n",
       "      <td>1.695962</td>\n",
       "      <td>-5.819479</td>\n",
       "      <td>3.336239</td>\n",
       "      <td>-1.606121</td>\n",
       "      <td>NS</td>\n",
       "    </tr>\n",
       "    <tr>\n",
       "      <th>1173614</th>\n",
       "      <td>13.046771</td>\n",
       "      <td>-2.683565</td>\n",
       "      <td>-0.045187</td>\n",
       "      <td>3.630588</td>\n",
       "      <td>11.426692</td>\n",
       "      <td>0.959028</td>\n",
       "      <td>6.029484</td>\n",
       "      <td>7.630195</td>\n",
       "      <td>-23.338402</td>\n",
       "      <td>13.703065</td>\n",
       "      <td>...</td>\n",
       "      <td>3.611029</td>\n",
       "      <td>-11.770231</td>\n",
       "      <td>-6.604062</td>\n",
       "      <td>-10.325389</td>\n",
       "      <td>-11.760047</td>\n",
       "      <td>5.464849</td>\n",
       "      <td>-4.793835</td>\n",
       "      <td>4.531965</td>\n",
       "      <td>-1.609620</td>\n",
       "      <td>NS</td>\n",
       "    </tr>\n",
       "  </tbody>\n",
       "</table>\n",
       "<p>5 rows × 21 columns</p>\n",
       "</div>"
      ],
      "text/plain": [
       "             mfcc1     mfcc2     mfcc3     mfcc4      mfcc5     mfcc6  \\\n",
       "1173610  12.932554 -3.438311  0.712146  1.496589   6.448451  2.992739   \n",
       "1173611  13.078408 -2.660954  1.599874 -2.059938  10.321796  6.187514   \n",
       "1173612  12.958079 -1.267645 -0.654874 -2.410546   8.801666  1.258751   \n",
       "1173613  13.067278 -2.336895  1.597430 -0.662740   8.254957 -2.752948   \n",
       "1173614  13.046771 -2.683565 -0.045187  3.630588  11.426692  0.959028   \n",
       "\n",
       "            mfcc7      mfcc8      mfcc9     mfcc10  ...    mfcc12     mfcc13  \\\n",
       "1173610 -0.824358   7.651176 -15.793766   7.669075  ...  5.759200  -7.525948   \n",
       "1173611  4.866676  10.455900 -20.453577   6.245536  ...  3.035482  -8.298606   \n",
       "1173612  0.438309  14.905351 -29.494555   3.738767  ...  4.619153  -2.773699   \n",
       "1173613  2.668889  14.964874 -25.839926   6.372458  ...  3.512694  -6.212925   \n",
       "1173614  6.029484   7.630195 -23.338402  13.703065  ...  3.611029 -11.770231   \n",
       "\n",
       "           mfcc14     mfcc15     mfcc16    mfcc17    mfcc18    mfcc19  \\\n",
       "1173610  8.672894  -3.928161 -13.454528  0.736362 -5.667800  1.932495   \n",
       "1173611  0.402892  -7.453174 -11.439127  0.448788 -3.902659  2.115690   \n",
       "1173612  2.339311  -4.887733  -7.183047  2.242666 -5.891264  1.602447   \n",
       "1173613 -1.443155  -5.001671  -6.875766  1.695962 -5.819479  3.336239   \n",
       "1173614 -6.604062 -10.325389 -11.760047  5.464849 -4.793835  4.531965   \n",
       "\n",
       "           mfcc20  label  \n",
       "1173610  1.284689     NS  \n",
       "1173611  1.639411     NS  \n",
       "1173612 -0.388524     NS  \n",
       "1173613 -1.606121     NS  \n",
       "1173614 -1.609620     NS  \n",
       "\n",
       "[5 rows x 21 columns]"
      ]
     },
     "execution_count": 2,
     "metadata": {},
     "output_type": "execute_result"
    }
   ],
   "source": [
    "d = pd.read_csv('./data/data1.csv')\n",
    "data = DataFrame.drop_duplicates(d)\n",
    "data.tail()"
   ]
  },
  {
   "cell_type": "code",
   "execution_count": 3,
   "metadata": {},
   "outputs": [],
   "source": [
    "genre_list = data.iloc[:, -1]\n",
    "encoder = LabelEncoder()\n",
    "y = encoder.fit_transform(genre_list)"
   ]
  },
  {
   "cell_type": "code",
   "execution_count": 4,
   "metadata": {
    "collapsed": true
   },
   "outputs": [],
   "source": [
    "scaler = StandardScaler()\n",
    "X = scaler.fit_transform(np.array(data.iloc[:, :-1], dtype = float))"
   ]
  },
  {
   "cell_type": "code",
   "execution_count": 5,
   "metadata": {
    "collapsed": true
   },
   "outputs": [],
   "source": [
    "X_train, X_test, y_train, y_test = train_test_split(X, y, test_size=0.3)\n"
   ]
  },
  {
   "cell_type": "code",
   "execution_count": 6,
   "metadata": {},
   "outputs": [
    {
     "name": "stderr",
     "output_type": "stream",
     "text": [
      "WARNING: Logging before flag parsing goes to stderr.\n",
      "W0802 08:39:09.919308  4436 deprecation_wrapper.py:119] From C:\\Users\\owner\\Anaconda3\\lib\\site-packages\\keras\\backend\\tensorflow_backend.py:74: The name tf.get_default_graph is deprecated. Please use tf.compat.v1.get_default_graph instead.\n",
      "\n",
      "W0802 08:39:13.136234  4436 deprecation_wrapper.py:119] From C:\\Users\\owner\\Anaconda3\\lib\\site-packages\\keras\\backend\\tensorflow_backend.py:517: The name tf.placeholder is deprecated. Please use tf.compat.v1.placeholder instead.\n",
      "\n",
      "W0802 08:39:14.521503  4436 deprecation_wrapper.py:119] From C:\\Users\\owner\\Anaconda3\\lib\\site-packages\\keras\\backend\\tensorflow_backend.py:4138: The name tf.random_uniform is deprecated. Please use tf.random.uniform instead.\n",
      "\n"
     ]
    }
   ],
   "source": [
    "from keras import models\n",
    "from keras import layers\n",
    "\n",
    "model = models.Sequential()\n",
    "model.add(layers.Dense(128, activation='relu', input_shape=(X_train.shape[1],)))\n",
    "\n",
    "model.add(layers.Dense(256, activation='relu'))\n",
    "\n",
    "model.add(layers.Dense(512, activation='relu'))\n",
    "\n",
    "model.add(layers.Dense(256, activation='relu'))\n",
    "\n",
    "model.add(layers.Dense(128, activation='relu'))\n",
    "\n",
    "model.add(layers.Dense(2, activation='softmax'))"
   ]
  },
  {
   "cell_type": "code",
   "execution_count": 7,
   "metadata": {},
   "outputs": [
    {
     "name": "stderr",
     "output_type": "stream",
     "text": [
      "W0802 08:40:06.597461  4436 deprecation_wrapper.py:119] From C:\\Users\\owner\\Anaconda3\\lib\\site-packages\\keras\\optimizers.py:790: The name tf.train.Optimizer is deprecated. Please use tf.compat.v1.train.Optimizer instead.\n",
      "\n",
      "W0802 08:40:07.070364  4436 deprecation_wrapper.py:119] From C:\\Users\\owner\\Anaconda3\\lib\\site-packages\\keras\\backend\\tensorflow_backend.py:3341: The name tf.log is deprecated. Please use tf.math.log instead.\n",
      "\n"
     ]
    }
   ],
   "source": [
    "model.compile(optimizer='adam',loss='sparse_categorical_crossentropy',metrics=['accuracy'])\n"
   ]
  },
  {
   "cell_type": "code",
   "execution_count": 8,
   "metadata": {},
   "outputs": [
    {
     "name": "stderr",
     "output_type": "stream",
     "text": [
      "W0802 08:40:38.514502  4436 deprecation.py:323] From C:\\Users\\owner\\Anaconda3\\lib\\site-packages\\tensorflow\\python\\ops\\math_grad.py:1250: add_dispatch_support.<locals>.wrapper (from tensorflow.python.ops.array_ops) is deprecated and will be removed in a future version.\n",
      "Instructions for updating:\n",
      "Use tf.where in 2.0, which has the same broadcast rule as np.where\n",
      "W0802 08:41:19.084318  4436 deprecation_wrapper.py:119] From C:\\Users\\owner\\Anaconda3\\lib\\site-packages\\keras\\backend\\tensorflow_backend.py:986: The name tf.assign_add is deprecated. Please use tf.compat.v1.assign_add instead.\n",
      "\n"
     ]
    },
    {
     "name": "stdout",
     "output_type": "stream",
     "text": [
      "Epoch 1/5\n",
      "821530/821530 [==============================] - 142s 173us/step - loss: 0.2802 - acc: 0.8822\n",
      "Epoch 2/5\n",
      "821530/821530 [==============================] - 137s 166us/step - loss: 0.2643 - acc: 0.8886\n",
      "Epoch 3/5\n",
      "821530/821530 [==============================] - 137s 167us/step - loss: 0.2588 - acc: 0.8906\n",
      "Epoch 4/5\n",
      "821530/821530 [==============================] - 138s 168us/step - loss: 0.2557 - acc: 0.8917\n",
      "Epoch 5/5\n",
      "821530/821530 [==============================] - 137s 167us/step - loss: 0.2533 - acc: 0.8925\n"
     ]
    }
   ],
   "source": [
    "history = model.fit(X_train,y_train,epochs=5,batch_size=64)\n"
   ]
  },
  {
   "cell_type": "code",
   "execution_count": 9,
   "metadata": {},
   "outputs": [
    {
     "name": "stdout",
     "output_type": "stream",
     "text": [
      "352085/352085 [==============================] - 39s 109us/step\n",
      "test_acc:  0.8924151838337879\n"
     ]
    }
   ],
   "source": [
    "test_loss, test_acc = model.evaluate(X_test,y_test)\n",
    "\n",
    "print('test_acc: ',test_acc)\n",
    "\n"
   ]
  },
  {
   "cell_type": "code",
   "execution_count": null,
   "metadata": {
    "collapsed": true
   },
   "outputs": [],
   "source": []
  }
 ],
 "metadata": {
  "kernelspec": {
   "display_name": "Python 3",
   "language": "python",
   "name": "python3"
  },
  "language_info": {
   "codemirror_mode": {
    "name": "ipython",
    "version": 3
   },
   "file_extension": ".py",
   "mimetype": "text/x-python",
   "name": "python",
   "nbconvert_exporter": "python",
   "pygments_lexer": "ipython3",
   "version": "3.6.3"
  }
 },
 "nbformat": 4,
 "nbformat_minor": 2
}
